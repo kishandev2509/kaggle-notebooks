{
 "cells": [
  {
   "cell_type": "code",
   "execution_count": 1,
   "id": "533bad49",
   "metadata": {
    "_cell_guid": "b1076dfc-b9ad-4769-8c92-a6c4dae69d19",
    "_uuid": "8f2839f25d086af736a60e9eeb907d3b93b6e0e5",
    "execution": {
     "iopub.execute_input": "2025-07-22T16:57:59.110803Z",
     "iopub.status.busy": "2025-07-22T16:57:59.110385Z",
     "iopub.status.idle": "2025-07-22T16:58:01.011045Z",
     "shell.execute_reply": "2025-07-22T16:58:01.010184Z"
    },
    "papermill": {
     "duration": 1.907392,
     "end_time": "2025-07-22T16:58:01.012699",
     "exception": false,
     "start_time": "2025-07-22T16:57:59.105307",
     "status": "completed"
    },
    "tags": []
   },
   "outputs": [],
   "source": [
    "# This Python 3 environment comes with many helpful analytics libraries installed\n",
    "# It is defined by the kaggle/python Docker image: https://github.com/kaggle/docker-python\n",
    "# For example, here's several helpful packages to load\n",
    "\n",
    "import numpy as np # linear algebra\n",
    "import pandas as pd # data processing, CSV file I/O (e.g. pd.read_csv)\n",
    "\n",
    "# Input data files are available in the read-only \"../input/\" directory\n",
    "# For example, running this (by clicking run or pressing Shift+Enter) will list all files under the input directory\n",
    "\n",
    "import os\n",
    "for dirname, _, filenames in os.walk('/kaggle/input'):\n",
    "    for filename in filenames:\n",
    "        print(os.path.join(dirname, filename))\n",
    "\n",
    "# You can write up to 20GB to the current directory (/kaggle/working/) that gets preserved as output when you create a version using \"Save & Run All\" \n",
    "# You can also write temporary files to /kaggle/temp/, but they won't be saved outside of the current session"
   ]
  },
  {
   "cell_type": "code",
   "execution_count": 2,
   "id": "a0b45483",
   "metadata": {
    "execution": {
     "iopub.execute_input": "2025-07-22T16:58:01.019315Z",
     "iopub.status.busy": "2025-07-22T16:58:01.018501Z",
     "iopub.status.idle": "2025-07-22T16:58:03.133320Z",
     "shell.execute_reply": "2025-07-22T16:58:03.132244Z"
    },
    "papermill": {
     "duration": 2.119626,
     "end_time": "2025-07-22T16:58:03.135110",
     "exception": false,
     "start_time": "2025-07-22T16:58:01.015484",
     "status": "completed"
    },
    "tags": []
   },
   "outputs": [],
   "source": [
    "from sklearn.cluster import KMeans\n",
    "from sklearn.metrics import silhouette_samples, silhouette_score"
   ]
  },
  {
   "cell_type": "code",
   "execution_count": 3,
   "id": "715cb31b",
   "metadata": {
    "execution": {
     "iopub.execute_input": "2025-07-22T16:58:03.140783Z",
     "iopub.status.busy": "2025-07-22T16:58:03.140395Z",
     "iopub.status.idle": "2025-07-22T16:58:03.144379Z",
     "shell.execute_reply": "2025-07-22T16:58:03.143752Z"
    },
    "papermill": {
     "duration": 0.008081,
     "end_time": "2025-07-22T16:58:03.145561",
     "exception": false,
     "start_time": "2025-07-22T16:58:03.137480",
     "status": "completed"
    },
    "tags": []
   },
   "outputs": [],
   "source": [
    "import matplotlib.pyplot as plt\n",
    "import matplotlib.cm as cm"
   ]
  },
  {
   "cell_type": "code",
   "execution_count": 4,
   "id": "aa27ef95",
   "metadata": {
    "execution": {
     "iopub.execute_input": "2025-07-22T16:58:03.150861Z",
     "iopub.status.busy": "2025-07-22T16:58:03.150608Z",
     "iopub.status.idle": "2025-07-22T16:58:03.349334Z",
     "shell.execute_reply": "2025-07-22T16:58:03.348355Z"
    },
    "papermill": {
     "duration": 0.203562,
     "end_time": "2025-07-22T16:58:03.351311",
     "exception": false,
     "start_time": "2025-07-22T16:58:03.147749",
     "status": "completed"
    },
    "tags": []
   },
   "outputs": [],
   "source": [
    "from sklearn.datasets import make_blobs"
   ]
  },
  {
   "cell_type": "code",
   "execution_count": 5,
   "id": "19732db1",
   "metadata": {
    "execution": {
     "iopub.execute_input": "2025-07-22T16:58:03.358344Z",
     "iopub.status.busy": "2025-07-22T16:58:03.357156Z",
     "iopub.status.idle": "2025-07-22T16:58:03.364795Z",
     "shell.execute_reply": "2025-07-22T16:58:03.364120Z"
    },
    "papermill": {
     "duration": 0.012403,
     "end_time": "2025-07-22T16:58:03.366369",
     "exception": false,
     "start_time": "2025-07-22T16:58:03.353966",
     "status": "completed"
    },
    "tags": []
   },
   "outputs": [],
   "source": [
    "X,y = make_blobs(n_samples=1000,n_features=3,centers=4,cluster_std=1,shuffle=True,random_state=1)\n",
    "range_n_clusters = [2,3,4,5,6]"
   ]
  },
  {
   "cell_type": "code",
   "execution_count": 6,
   "id": "fc2006b9",
   "metadata": {
    "execution": {
     "iopub.execute_input": "2025-07-22T16:58:03.371849Z",
     "iopub.status.busy": "2025-07-22T16:58:03.371584Z",
     "iopub.status.idle": "2025-07-22T16:58:03.378331Z",
     "shell.execute_reply": "2025-07-22T16:58:03.377330Z"
    },
    "papermill": {
     "duration": 0.01104,
     "end_time": "2025-07-22T16:58:03.379743",
     "exception": false,
     "start_time": "2025-07-22T16:58:03.368703",
     "status": "completed"
    },
    "tags": []
   },
   "outputs": [
    {
     "data": {
      "text/plain": [
       "array([[-3.87902799, -7.2644429 , -8.80783127],\n",
       "       [-2.82802505, -6.96082879, -7.62522468],\n",
       "       [-0.06234273, -2.82521017,  2.13861516],\n",
       "       ...,\n",
       "       [-0.50427202,  4.84465622, -8.87538418],\n",
       "       [-0.04849291, -1.09125877,  3.65900745],\n",
       "       [-4.95985498, -3.10704299, -1.77364597]])"
      ]
     },
     "execution_count": 6,
     "metadata": {},
     "output_type": "execute_result"
    }
   ],
   "source": [
    "X"
   ]
  },
  {
   "cell_type": "code",
   "execution_count": 7,
   "id": "819d81ee",
   "metadata": {
    "execution": {
     "iopub.execute_input": "2025-07-22T16:58:03.385897Z",
     "iopub.status.busy": "2025-07-22T16:58:03.385501Z",
     "iopub.status.idle": "2025-07-22T16:58:03.393301Z",
     "shell.execute_reply": "2025-07-22T16:58:03.392439Z"
    },
    "papermill": {
     "duration": 0.012567,
     "end_time": "2025-07-22T16:58:03.394766",
     "exception": false,
     "start_time": "2025-07-22T16:58:03.382199",
     "status": "completed"
    },
    "tags": []
   },
   "outputs": [
    {
     "data": {
      "text/plain": [
       "array([1, 1, 3, 3, 1, 0, 3, 3, 0, 0, 3, 2, 0, 3, 1, 2, 2, 1, 0, 0, 0, 1,\n",
       "       0, 0, 2, 2, 0, 1, 2, 2, 0, 2, 2, 1, 2, 2, 3, 0, 2, 1, 3, 3, 1, 3,\n",
       "       1, 2, 0, 2, 3, 0, 0, 0, 0, 1, 2, 3, 2, 1, 1, 0, 3, 0, 0, 3, 0, 0,\n",
       "       1, 0, 1, 0, 2, 1, 0, 3, 0, 3, 2, 2, 3, 3, 1, 1, 1, 0, 3, 2, 1, 3,\n",
       "       1, 0, 3, 1, 1, 0, 2, 2, 2, 3, 1, 0, 2, 2, 2, 1, 1, 1, 0, 3, 0, 3,\n",
       "       3, 2, 1, 0, 3, 3, 0, 3, 0, 1, 0, 2, 1, 1, 1, 3, 3, 2, 0, 3, 3, 3,\n",
       "       0, 1, 2, 1, 1, 0, 3, 3, 0, 1, 1, 0, 3, 0, 0, 2, 1, 2, 2, 3, 3, 0,\n",
       "       1, 0, 0, 3, 3, 2, 1, 2, 2, 2, 0, 3, 1, 0, 2, 2, 3, 3, 0, 1, 3, 2,\n",
       "       2, 0, 0, 3, 3, 1, 3, 1, 2, 0, 0, 2, 3, 1, 3, 1, 0, 2, 0, 2, 1, 0,\n",
       "       2, 2, 1, 2, 0, 1, 0, 0, 2, 0, 0, 0, 0, 1, 3, 1, 0, 1, 1, 2, 3, 2,\n",
       "       3, 1, 0, 0, 3, 0, 3, 3, 3, 0, 1, 3, 2, 3, 3, 0, 3, 3, 0, 3, 1, 1,\n",
       "       1, 1, 0, 3, 3, 3, 1, 0, 3, 1, 0, 3, 2, 0, 3, 2, 2, 1, 2, 0, 1, 0,\n",
       "       0, 0, 2, 2, 1, 0, 1, 0, 3, 1, 2, 3, 3, 2, 2, 1, 1, 0, 0, 3, 2, 2,\n",
       "       2, 2, 3, 0, 0, 1, 3, 2, 2, 1, 2, 2, 0, 2, 2, 1, 2, 3, 2, 3, 3, 3,\n",
       "       1, 2, 2, 0, 3, 2, 2, 2, 0, 3, 1, 1, 1, 0, 1, 3, 3, 0, 0, 2, 2, 0,\n",
       "       1, 1, 1, 1, 1, 3, 1, 1, 2, 2, 0, 2, 3, 2, 3, 1, 3, 0, 0, 1, 3, 1,\n",
       "       2, 1, 2, 3, 2, 1, 1, 1, 1, 0, 2, 0, 0, 1, 1, 2, 3, 1, 2, 3, 3, 3,\n",
       "       3, 1, 2, 1, 1, 1, 0, 1, 0, 2, 3, 1, 3, 1, 0, 3, 3, 2, 0, 1, 0, 0,\n",
       "       2, 1, 0, 0, 0, 2, 2, 3, 0, 3, 0, 2, 2, 0, 1, 1, 0, 1, 0, 3, 2, 2,\n",
       "       1, 3, 1, 1, 0, 3, 2, 0, 0, 2, 3, 1, 0, 0, 3, 0, 2, 0, 2, 2, 3, 0,\n",
       "       1, 1, 2, 3, 0, 2, 1, 2, 1, 3, 2, 0, 0, 0, 3, 1, 1, 2, 0, 2, 0, 0,\n",
       "       1, 2, 1, 0, 2, 2, 1, 1, 3, 2, 2, 3, 0, 1, 3, 1, 1, 3, 3, 1, 2, 1,\n",
       "       2, 1, 0, 3, 3, 1, 2, 3, 1, 0, 2, 2, 2, 2, 2, 1, 2, 3, 3, 0, 3, 1,\n",
       "       1, 2, 3, 3, 1, 3, 3, 1, 0, 0, 3, 0, 2, 1, 1, 1, 0, 2, 2, 0, 2, 2,\n",
       "       1, 1, 1, 1, 3, 3, 0, 3, 0, 3, 2, 1, 1, 0, 3, 0, 0, 1, 3, 1, 1, 3,\n",
       "       0, 2, 1, 2, 1, 2, 0, 2, 3, 0, 2, 3, 2, 2, 1, 3, 1, 0, 2, 1, 1, 3,\n",
       "       0, 0, 2, 1, 2, 2, 3, 3, 3, 3, 1, 3, 3, 2, 3, 0, 1, 0, 2, 0, 1, 0,\n",
       "       1, 1, 3, 1, 2, 2, 3, 1, 2, 0, 1, 2, 0, 1, 2, 1, 2, 3, 1, 2, 2, 1,\n",
       "       3, 3, 2, 2, 1, 1, 0, 2, 0, 1, 2, 0, 0, 0, 0, 0, 3, 0, 3, 0, 2, 3,\n",
       "       2, 2, 0, 0, 0, 0, 0, 3, 0, 1, 2, 1, 0, 1, 0, 3, 2, 2, 1, 3, 1, 3,\n",
       "       2, 3, 0, 1, 3, 3, 0, 2, 3, 2, 2, 1, 3, 1, 0, 2, 0, 2, 2, 1, 0, 2,\n",
       "       1, 0, 3, 2, 3, 0, 1, 1, 1, 3, 3, 3, 1, 3, 1, 2, 2, 1, 1, 1, 1, 3,\n",
       "       1, 1, 0, 2, 2, 1, 3, 1, 3, 2, 3, 2, 2, 1, 0, 3, 1, 0, 2, 1, 1, 2,\n",
       "       2, 1, 0, 2, 0, 0, 2, 2, 1, 3, 0, 2, 2, 3, 0, 0, 3, 0, 3, 2, 1, 2,\n",
       "       0, 2, 0, 1, 3, 3, 2, 1, 1, 0, 3, 1, 2, 2, 2, 0, 1, 1, 1, 0, 3, 3,\n",
       "       3, 2, 3, 2, 0, 0, 2, 3, 2, 3, 1, 3, 0, 3, 1, 2, 1, 0, 1, 3, 2, 1,\n",
       "       3, 2, 2, 2, 1, 2, 3, 2, 3, 0, 3, 2, 1, 0, 0, 0, 1, 0, 3, 3, 2, 3,\n",
       "       1, 1, 3, 0, 2, 2, 1, 0, 2, 3, 0, 2, 0, 3, 3, 0, 2, 1, 2, 1, 0, 0,\n",
       "       0, 0, 2, 0, 1, 0, 2, 2, 0, 3, 2, 2, 1, 0, 0, 3, 3, 0, 3, 3, 1, 3,\n",
       "       3, 1, 0, 3, 3, 3, 2, 0, 0, 0, 1, 3, 3, 3, 2, 3, 1, 1, 3, 0, 3, 3,\n",
       "       2, 2, 1, 2, 3, 2, 3, 0, 2, 2, 3, 0, 3, 3, 1, 1, 0, 0, 2, 3, 2, 2,\n",
       "       0, 2, 3, 3, 2, 2, 0, 1, 1, 1, 1, 2, 3, 3, 1, 2, 1, 3, 0, 0, 1, 1,\n",
       "       2, 3, 0, 3, 2, 0, 3, 0, 0, 3, 1, 3, 2, 0, 0, 3, 1, 1, 3, 1, 0, 2,\n",
       "       3, 0, 1, 1, 3, 3, 0, 3, 0, 1, 0, 0, 1, 0, 0, 3, 3, 2, 1, 3, 1, 0,\n",
       "       2, 3, 1, 2, 0, 2, 3, 3, 3, 3, 2, 3, 0, 1, 0, 3, 0, 2, 1, 2, 2, 3,\n",
       "       2, 2, 2, 0, 3, 1, 3, 0, 3, 2])"
      ]
     },
     "execution_count": 7,
     "metadata": {},
     "output_type": "execute_result"
    }
   ],
   "source": [
    "y"
   ]
  },
  {
   "cell_type": "code",
   "execution_count": 8,
   "id": "28fd2d4b",
   "metadata": {
    "execution": {
     "iopub.execute_input": "2025-07-22T16:58:03.401991Z",
     "iopub.status.busy": "2025-07-22T16:58:03.401574Z",
     "iopub.status.idle": "2025-07-22T16:58:03.997303Z",
     "shell.execute_reply": "2025-07-22T16:58:03.996211Z"
    },
    "papermill": {
     "duration": 0.601191,
     "end_time": "2025-07-22T16:58:03.998887",
     "exception": false,
     "start_time": "2025-07-22T16:58:03.397696",
     "status": "completed"
    },
    "tags": []
   },
   "outputs": [
    {
     "name": "stderr",
     "output_type": "stream",
     "text": [
      "/usr/local/lib/python3.11/dist-packages/sklearn/cluster/_kmeans.py:870: FutureWarning: The default value of `n_init` will change from 10 to 'auto' in 1.4. Set the value of `n_init` explicitly to suppress the warning\n",
      "  warnings.warn(\n",
      "/usr/local/lib/python3.11/dist-packages/sklearn/cluster/_kmeans.py:870: FutureWarning: The default value of `n_init` will change from 10 to 'auto' in 1.4. Set the value of `n_init` explicitly to suppress the warning\n",
      "  warnings.warn(\n",
      "/usr/local/lib/python3.11/dist-packages/sklearn/cluster/_kmeans.py:870: FutureWarning: The default value of `n_init` will change from 10 to 'auto' in 1.4. Set the value of `n_init` explicitly to suppress the warning\n",
      "  warnings.warn(\n",
      "/usr/local/lib/python3.11/dist-packages/sklearn/cluster/_kmeans.py:870: FutureWarning: The default value of `n_init` will change from 10 to 'auto' in 1.4. Set the value of `n_init` explicitly to suppress the warning\n",
      "  warnings.warn(\n",
      "/usr/local/lib/python3.11/dist-packages/sklearn/cluster/_kmeans.py:870: FutureWarning: The default value of `n_init` will change from 10 to 'auto' in 1.4. Set the value of `n_init` explicitly to suppress the warning\n",
      "  warnings.warn(\n",
      "/usr/local/lib/python3.11/dist-packages/sklearn/cluster/_kmeans.py:870: FutureWarning: The default value of `n_init` will change from 10 to 'auto' in 1.4. Set the value of `n_init` explicitly to suppress the warning\n",
      "  warnings.warn(\n",
      "/usr/local/lib/python3.11/dist-packages/sklearn/cluster/_kmeans.py:870: FutureWarning: The default value of `n_init` will change from 10 to 'auto' in 1.4. Set the value of `n_init` explicitly to suppress the warning\n",
      "  warnings.warn(\n",
      "/usr/local/lib/python3.11/dist-packages/sklearn/cluster/_kmeans.py:870: FutureWarning: The default value of `n_init` will change from 10 to 'auto' in 1.4. Set the value of `n_init` explicitly to suppress the warning\n",
      "  warnings.warn(\n",
      "/usr/local/lib/python3.11/dist-packages/sklearn/cluster/_kmeans.py:870: FutureWarning: The default value of `n_init` will change from 10 to 'auto' in 1.4. Set the value of `n_init` explicitly to suppress the warning\n",
      "  warnings.warn(\n",
      "/usr/local/lib/python3.11/dist-packages/sklearn/cluster/_kmeans.py:870: FutureWarning: The default value of `n_init` will change from 10 to 'auto' in 1.4. Set the value of `n_init` explicitly to suppress the warning\n",
      "  warnings.warn(\n"
     ]
    },
    {
     "data": {
      "image/png": "[encoded data removed]",
      "text/plain": [
       "<Figure size 640x480 with 1 Axes>"
      ]
     },
     "metadata": {},
     "output_type": "display_data"
    }
   ],
   "source": [
    "wcss = []\n",
    "for i in range(1,11):\n",
    "    kmeans = KMeans(n_clusters=i,init='k-means++',random_state=0)\n",
    "    kmeans.fit(X)\n",
    "    wcss.append(kmeans.inertia_)\n",
    "\n",
    "plt.plot(range(1,11),wcss)\n",
    "plt.title(\"The Elbow Method\")\n",
    "plt.xlabel('Number of Clusters')\n",
    "plt.ylabel('WCSS')\n",
    "plt.show()"
   ]
  },
  {
   "cell_type": "code",
   "execution_count": null,
   "id": "520ec3b1",
   "metadata": {
    "papermill": {
     "duration": 0.002837,
     "end_time": "2025-07-22T16:58:04.005383",
     "exception": false,
     "start_time": "2025-07-22T16:58:04.002546",
     "status": "completed"
    },
    "tags": []
   },
   "outputs": [],
   "source": []
  }
 ],
 "metadata": {
  "kaggle": {
   "accelerator": "none",
   "dataSources": [],
   "dockerImageVersionId": 31089,
   "isGpuEnabled": false,
   "isInternetEnabled": true,
   "language": "python",
   "sourceType": "notebook"
  },
  "kernelspec": {
   "display_name": "Python 3",
   "language": "python",
   "name": "python3"
  },
  "language_info": {
   "codemirror_mode": {
    "name": "ipython",
    "version": 3
   },
   "file_extension": ".py",
   "mimetype": "text/x-python",
   "name": "python",
   "nbconvert_exporter": "python",
   "pygments_lexer": "ipython3",
   "version": "3.11.13"
  },
  "papermill": {
   "default_parameters": {},
   "duration": 10.647093,
   "end_time": "2025-07-22T16:58:04.729702",
   "environment_variables": {},
   "exception": null,
   "input_path": "__notebook__.ipynb",
   "output_path": "__notebook__.ipynb",
   "parameters": {},
   "start_time": "2025-07-22T16:57:54.082609",
   "version": "2.6.0"
  }
 },
 "nbformat": 4,
 "nbformat_minor": 5
}
